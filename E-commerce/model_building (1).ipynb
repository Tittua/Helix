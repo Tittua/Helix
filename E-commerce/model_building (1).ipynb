{
  "cells": [
    {
      "cell_type": "markdown",
      "metadata": {
        "id": "uWQkHKqt0MFr"
      },
      "source": [
        "**Importing the Libraries**"
      ]
    },
    {
      "cell_type": "code",
      "execution_count": null,
      "metadata": {
        "id": "JDEdozzT0GGN"
      },
      "outputs": [],
      "source": [
        "import pandas as pd\n",
        "from google.colab import drive\n",
        "from sklearn.metrics.pairwise import cosine_similarity\n",
        "import numpy as np\n",
        "from scipy.sparse import csr_matrix\n",
        "from sklearn.neighbors import NearestNeighbors\n",
        "from google.colab import drive\n",
        "from scipy.sparse import csr_matrix\n",
        "from sklearn.neighbors import NearestNeighbors"
      ]
    },
    {
      "cell_type": "markdown",
      "metadata": {
        "id": "GfTLBhJ80enH"
      },
      "source": [
        "**Importing the data**"
      ]
    },
    {
      "cell_type": "code",
      "execution_count": null,
      "metadata": {
        "id": "vWZIgl8X0S6Z"
      },
      "outputs": [],
      "source": [
        "def optimise_data(data):    \n",
        "    #Optimizing the memory use by down sizing the data types to the requirements\n",
        "    data['order_id']=data['order_id'].astype('int32')\n",
        "    data['user_id']=data['user_id'].astype('int32')\n",
        "    data['order_number']=data['order_number'].astype('int16')\n",
        "    data['order_dow']=data['order_dow'].astype('int16')\n",
        "    data['order_hour_of_day']=data['order_hour_of_day'].astype('int16')\n",
        "    data['days_since_prior_order']=data['days_since_prior_order'].astype('int16')\n",
        "    data['product_id']=data['product_id'].astype('int32')\n",
        "    data['add_to_cart_order']=data['add_to_cart_order'].astype('int16')\n",
        "    data['reordered']=data['reordered'].astype('int16')\n",
        "    data['aisle_id']=data['aisle_id'].astype('int16')\n",
        "    data['department_id']=data['department_id'].astype('int16')\n",
        "    data.drop(['Unnamed: 0','index'],axis=1,inplace=True)    \n",
        "    return data"
      ]
    },
    {
      "cell_type": "code",
      "execution_count": null,
      "metadata": {
        "colab": {
          "base_uri": "https://localhost:8080/"
        },
        "id": "9p1W9ATY0V93",
        "outputId": "0f131bb0-3197-474d-f44d-bb85203133fb"
      },
      "outputs": [
        {
          "output_type": "stream",
          "name": "stdout",
          "text": [
            "Mounted at /content/drive\n"
          ]
        }
      ],
      "source": [
        "drive.mount('/content/drive')"
      ]
    },
    {
      "cell_type": "code",
      "execution_count": null,
      "metadata": {
        "id": "H4n2sAU50Y5y"
      },
      "outputs": [],
      "source": [
        "data=pd.read_csv('/content/drive/MyDrive/Tittu_data/final_data.csv')\n",
        "data=optimise_data(data)"
      ]
    },
    {
      "cell_type": "code",
      "execution_count": null,
      "metadata": {
        "id": "UNnFe-E-0daI"
      },
      "outputs": [],
      "source": [
        "#Transformation\n",
        "data['user_purchase_count']=data.groupby('user_id')['user_id'].transform('count')\n",
        "data['product_ordered_count']=data.groupby('product_id')['product_id'].transform('count')"
      ]
    },
    {
      "cell_type": "markdown",
      "source": [
        "# **Model Building**"
      ],
      "metadata": {
        "id": "wPHQ6RfK_RmS"
      }
    },
    {
      "cell_type": "markdown",
      "source": [
        "**Collaborative filtering**"
      ],
      "metadata": {
        "id": "1M8YRqgk_b1h"
      }
    },
    {
      "cell_type": "code",
      "execution_count": null,
      "metadata": {
        "id": "OB1eRu-x00QY"
      },
      "outputs": [],
      "source": [
        "#Now we will be filtering the data out with relavant products\n",
        "#Only those customer who has made min of 250 orders and products which were order a min of x time will be taken for further analysis\n",
        "df1=data[(data['user_purchase_count']>250)]\n",
        "df1=df1[(df1['product_ordered_count']>=300)]\n",
        "df1=df1[df1['reordered']==1]\n",
        "df1=df1[['user_id','product_name']]\n",
        "df1=df1.set_index('user_id')\n",
        "df1['tri']=df1.groupby(['user_id','product_name'])['product_name'].transform('count')\n",
        "product_based=pd.pivot_table(df1,columns='user_id',index='product_name',values='tri')\n",
        "product_based=product_based.fillna(0)\n",
        "user_based=pd.pivot_table(df1,index='user_id',columns='product_name',values='tri')\n",
        "user_based=user_based.fillna(0)\n",
        "#del(data)\n",
        "del(df1)"
      ]
    },
    {
      "cell_type": "markdown",
      "source": [
        "**Cosin similarity**"
      ],
      "metadata": {
        "id": "ufMyZ1Ju_iAy"
      }
    },
    {
      "cell_type": "code",
      "execution_count": null,
      "metadata": {
        "id": "dqQS54Vp1EYe",
        "colab": {
          "base_uri": "https://localhost:8080/"
        },
        "outputId": "a626e933-bb89-4a85-d2e9-20c6b52e66b0"
      },
      "outputs": [
        {
          "output_type": "execute_result",
          "data": {
            "text/plain": [
              "(11249, 11249)"
            ]
          },
          "metadata": {},
          "execution_count": 7
        }
      ],
      "source": [
        "#finding cosin similarity\n",
        "user_similarity_score=cosine_similarity(user_based)         #Compare each user with other users and find similar users\n",
        "user_similarity_score.shape\n",
        "product_similarity_score=cosine_similarity(product_based)         #Compare each product with other product and find similar product\n",
        "product_similarity_score.shape"
      ]
    },
    {
      "cell_type": "code",
      "execution_count": null,
      "metadata": {
        "id": "3Hu3LCUO1_2-"
      },
      "outputs": [],
      "source": [
        "#Defining a function which would take a product name and returns suggesion based on the product\n",
        "def product_recommender(product_name):\n",
        "  index=np.where(product_based.index==product_name)[0][0]\n",
        "  similar_items=sorted(list(enumerate(product_similarity_score[index])),key=lambda x:x[1],reverse=True)[1:6]\n",
        "  name=[]\n",
        "  for i in similar_items:\n",
        "    name.append(product_based.index[i[0]])\n",
        "  return name"
      ]
    },
    {
      "cell_type": "code",
      "source": [
        "product_recommender('0% Fat Blueberry Greek Yogurt')"
      ],
      "metadata": {
        "colab": {
          "base_uri": "https://localhost:8080/"
        },
        "id": "B4txVk5sAYo1",
        "outputId": "ae274dd8-db29-44f7-eecc-3040429183fc"
      },
      "execution_count": 25,
      "outputs": [
        {
          "output_type": "execute_result",
          "data": {
            "text/plain": [
              "['Greek 0% Fat Strawberry on the Bottom Yogurt',\n",
              " '0% Fat Superfruits Greek Yogurt',\n",
              " 'YoKids Strawberry Banana Organic Lowfat Yogurt',\n",
              " 'Raspberry, Blueberry Banana Fruit Puree',\n",
              " 'Roasted Red Pepper Hummus With Chips']"
            ]
          },
          "metadata": {},
          "execution_count": 25
        }
      ]
    },
    {
      "cell_type": "code",
      "execution_count": null,
      "metadata": {
        "id": "lPDY83Yc2Hkf"
      },
      "outputs": [],
      "source": [
        "#takes user id and returns most frequently purchased products\n",
        "def users_top_purchase(user_ids):\n",
        "  result=data[data['user_id']==user_ids].sort_values('product_ordered_count',ascending=False)[['product_name','product_ordered_count']]\n",
        "  result.drop_duplicates(inplace=True)\n",
        "  return result['product_name'].head(5).values\n",
        "\n",
        "#Defining a function which would take a user name and returns similar users\n",
        "def user_recommender(user_name):\n",
        "  index=np.where(user_based.index==user_name)[0][0]\n",
        "  similar_items=sorted(list(enumerate(user_similarity_score[index])),key=lambda x:x[1],reverse=True)[1:6]\n",
        "  name=[]\n",
        "  for i in similar_items:\n",
        "    name.append(user_based.index[i[0]])\n",
        "  return users_top_purchase(name[0])\n"
      ]
    },
    {
      "cell_type": "code",
      "source": [
        "user_based.index"
      ],
      "metadata": {
        "colab": {
          "base_uri": "https://localhost:8080/"
        },
        "id": "Uw8YECrhAjOd",
        "outputId": "6db6bcf6-7d17-49ba-ce1e-2ab6e7d3bca9"
      },
      "execution_count": 26,
      "outputs": [
        {
          "output_type": "execute_result",
          "data": {
            "text/plain": [
              "Int64Index([    17,     27,     31,     50,     54,     63,     71,     75,\n",
              "                86,     90,\n",
              "            ...\n",
              "            206154, 206165, 206174, 206187, 206193, 206199, 206200, 206201,\n",
              "            206206, 206208],\n",
              "           dtype='int64', name='user_id', length=36576)"
            ]
          },
          "metadata": {},
          "execution_count": 26
        }
      ]
    },
    {
      "cell_type": "code",
      "source": [
        "user_recommender(90)"
      ],
      "metadata": {
        "colab": {
          "base_uri": "https://localhost:8080/"
        },
        "id": "bHTdmminAgpe",
        "outputId": "90ea1a17-9939-496b-8b0a-95548b933754"
      },
      "execution_count": 27,
      "outputs": [
        {
          "output_type": "execute_result",
          "data": {
            "text/plain": [
              "array(['Banana', 'Large Lemon', 'Strawberries', 'Limes',\n",
              "       'Organic Zucchini'], dtype=object)"
            ]
          },
          "metadata": {},
          "execution_count": 27
        }
      ]
    },
    {
      "cell_type": "markdown",
      "source": [
        "**Near neighbours**"
      ],
      "metadata": {
        "id": "7VMbEI2E_oQ6"
      }
    },
    {
      "cell_type": "code",
      "source": [
        "#Product based\n",
        "table_sparse1=csr_matrix(product_based)  #To consider only value and to avoid 0 to reduce computation time\n",
        "#Building the model\n",
        "model=NearestNeighbors(algorithm='brute')\n",
        "model.fit(table_sparse1)\n",
        "#Input \n",
        "def nn_recommend_product(product_name):\n",
        "  id=np.where(product_based.index==product_name)[0][0]\n",
        "  distance,suggestion=model.kneighbors(product_based.iloc[id,:].values.reshape(1,-1),n_neighbors=5)\n",
        "  name=[]\n",
        "  for i in range(len(suggestion)):\n",
        "    name.extend(product_based.index[suggestion[i]])\n",
        "    return name"
      ],
      "metadata": {
        "id": "4y9yUgIq99Pm"
      },
      "execution_count": 21,
      "outputs": []
    },
    {
      "cell_type": "code",
      "source": [
        "nn_recommend_product('0% Fat Blueberry Greek Yogurt')"
      ],
      "metadata": {
        "colab": {
          "base_uri": "https://localhost:8080/"
        },
        "id": "dEyE3_NKAN-G",
        "outputId": "10d45b32-b443-4ec3-c512-cf512047b5c8"
      },
      "execution_count": 24,
      "outputs": [
        {
          "output_type": "execute_result",
          "data": {
            "text/plain": [
              "['0% Fat Blueberry Greek Yogurt',\n",
              " 'Bamboo Skewers',\n",
              " 'Poppy Seed',\n",
              " 'Double Superfine Mustard Powder, Original English',\n",
              " 'Organic Light Corn Syrup']"
            ]
          },
          "metadata": {},
          "execution_count": 24
        }
      ]
    },
    {
      "cell_type": "code",
      "source": [
        "#user based\n",
        "table_sparse2=csr_matrix(user_based)  #To consider only value and to avoid 0 to reduce computation time\n",
        "#Building the model\n",
        "model=NearestNeighbors(algorithm='brute')\n",
        "model.fit(table_sparse2)\n",
        "#Input \n",
        "def nn_recommend_user(user_name):\n",
        "  id=np.where(user_based.index==user_name)[0][0]\n",
        "  distance,suggestion=model.kneighbors(user_based.iloc[id,:].values.reshape(1,-1),n_neighbors=5)\n",
        "  name=[]\n",
        "  for i in range(len(suggestion)):\n",
        "    name.extend(user_based.index[suggestion[i]])\n",
        "    return users_top_purchase(name[0])"
      ],
      "metadata": {
        "id": "FuuFYqKg_7VK"
      },
      "execution_count": 31,
      "outputs": []
    },
    {
      "cell_type": "code",
      "source": [
        "nn_recommend_user(50)"
      ],
      "metadata": {
        "colab": {
          "base_uri": "https://localhost:8080/"
        },
        "id": "pq3YiVsEA6DV",
        "outputId": "12fe7c38-894a-4b51-f307-39b1855dda22"
      },
      "execution_count": 32,
      "outputs": [
        {
          "output_type": "execute_result",
          "data": {
            "text/plain": [
              "array(['Bag of Organic Bananas', 'Organic Strawberries',\n",
              "       'Organic Baby Spinach', 'Organic Hass Avocado',\n",
              "       'Organic Yellow Onion'], dtype=object)"
            ]
          },
          "metadata": {},
          "execution_count": 32
        }
      ]
    },
    {
      "cell_type": "markdown",
      "source": [
        "**Popularity based model**"
      ],
      "metadata": {
        "id": "lMeo3I0ZChs8"
      }
    },
    {
      "cell_type": "code",
      "source": [
        "#Recommends top 10 popular products\n",
        "data['Product_reorder_count']=data.groupby('product_name')['reordered'].transform('sum')\n",
        "data['reorder_ratio']=(data['Product_reorder_count']/(len(data['reordered']==1)))\n",
        "popular_products=data[['product_id','product_name','product_ordered_count','Product_reorder_count','reorder_ratio','department']]\n",
        "popular_products=popular_products.drop_duplicates().reset_index(drop=bool)\n",
        "popular_products['weight']=popular_products['product_ordered_count']*popular_products['reorder_ratio']\n",
        "popular_products.sort_values('weight',ascending=False)['product_name'].head(10).values"
      ],
      "metadata": {
        "colab": {
          "base_uri": "https://localhost:8080/"
        },
        "id": "Sa8nVW9ZCk7Z",
        "outputId": "ccc5883b-acce-4c49-fb3c-65e7a2f7cde0"
      },
      "execution_count": 43,
      "outputs": [
        {
          "output_type": "execute_result",
          "data": {
            "text/plain": [
              "array(['Banana', 'Bag of Organic Bananas', 'Organic Strawberries',\n",
              "       'Organic Baby Spinach', 'Organic Hass Avocado', 'Organic Avocado',\n",
              "       'Large Lemon', 'Organic Whole Milk', 'Organic Raspberries',\n",
              "       'Strawberries'], dtype=object)"
            ]
          },
          "metadata": {},
          "execution_count": 43
        }
      ]
    },
    {
      "cell_type": "markdown",
      "source": [
        "Amoung all these model Collaborative filtering using cosin similary was giving Relevant recommendation"
      ],
      "metadata": {
        "id": "tsm0bSD2DBY2"
      }
    }
  ],
  "metadata": {
    "colab": {
      "machine_shape": "hm",
      "provenance": []
    },
    "gpuClass": "standard",
    "kernelspec": {
      "display_name": "Python 3",
      "name": "python3"
    },
    "language_info": {
      "name": "python"
    }
  },
  "nbformat": 4,
  "nbformat_minor": 0
}