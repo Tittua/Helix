{
  "cells": [
    {
      "cell_type": "markdown",
      "source": [
        "# Importing Library"
      ],
      "metadata": {
        "id": "8A5TX2u5PO8J"
      }
    },
    {
      "cell_type": "code",
      "source": [
        "import pandas as pd\n",
        "from google.colab import drive\n",
        "from sklearn.metrics.pairwise import cosine_similarity\n",
        "import numpy as np\n",
        "from scipy.sparse import csr_matrix\n",
        "from sklearn.neighbors import NearestNeighbors\n",
        "from google.colab import drive\n",
        "from scipy.sparse import csr_matrix\n",
        "from sklearn.neighbors import NearestNeighbors"
      ],
      "metadata": {
        "id": "_sLcij7gPK0P"
      },
      "execution_count": 1,
      "outputs": []
    },
    {
      "cell_type": "markdown",
      "source": [
        "# Importing data"
      ],
      "metadata": {
        "id": "JKBudetfPWp9"
      }
    },
    {
      "cell_type": "code",
      "source": [
        "def optimise_data(data):    \n",
        "    #Optimizing the memory use by down sizing the data types to the requirements\n",
        "    data['order_id']=data['order_id'].astype('int32')\n",
        "    data['user_id']=data['user_id'].astype('int32')\n",
        "    data['order_number']=data['order_number'].astype('int16')\n",
        "    data['order_dow']=data['order_dow'].astype('int16')\n",
        "    data['order_hour_of_day']=data['order_hour_of_day'].astype('int16')\n",
        "    data['days_since_prior_order']=data['days_since_prior_order'].astype('int16')\n",
        "    data['product_id']=data['product_id'].astype('int32')\n",
        "    data['add_to_cart_order']=data['add_to_cart_order'].astype('int16')\n",
        "    data['reordered']=data['reordered'].astype('int16')\n",
        "    data['aisle_id']=data['aisle_id'].astype('int16')\n",
        "    data['department_id']=data['department_id'].astype('int16')\n",
        "    data.drop(['Unnamed: 0','index'],axis=1,inplace=True)    \n",
        "    return data"
      ],
      "metadata": {
        "id": "f5c1HXXSPUNK"
      },
      "execution_count": 2,
      "outputs": []
    },
    {
      "cell_type": "code",
      "source": [
        "drive.mount('/content/drive')"
      ],
      "metadata": {
        "colab": {
          "base_uri": "https://localhost:8080/"
        },
        "id": "VB1zubNKPKx-",
        "outputId": "469c9bf7-ec75-4004-9574-c2729d324957"
      },
      "execution_count": 3,
      "outputs": [
        {
          "output_type": "stream",
          "name": "stdout",
          "text": [
            "Drive already mounted at /content/drive; to attempt to forcibly remount, call drive.mount(\"/content/drive\", force_remount=True).\n"
          ]
        }
      ]
    },
    {
      "cell_type": "code",
      "source": [
        "data=pd.read_csv('/content/drive/MyDrive/Tittu_data/final_data.csv')\n",
        "data=optimise_data(data)"
      ],
      "metadata": {
        "id": "PMCkyDb1Pb35"
      },
      "execution_count": 119,
      "outputs": []
    },
    {
      "cell_type": "code",
      "source": [
        "#Transformation\n",
        "data['user_purchase_count']=data.groupby('user_id')['user_id'].transform('count')\n",
        "data['product_ordered_count']=data.groupby('product_id')['product_id'].transform('count')"
      ],
      "metadata": {
        "id": "6OCY5IAZPKva"
      },
      "execution_count": 120,
      "outputs": []
    },
    {
      "cell_type": "markdown",
      "source": [
        "# Model Building"
      ],
      "metadata": {
        "id": "geVBIuHWPm-9"
      }
    },
    {
      "cell_type": "markdown",
      "source": [
        "**Collaborative filtering Using Cosine similarity**"
      ],
      "metadata": {
        "id": "yrnBSASMdI_N"
      }
    },
    {
      "cell_type": "code",
      "source": [
        "#Now we will be filtering the data out with relavant products\n",
        "#Only those customer who has made min of 250 orders and products which were order a min of x time will be taken for further analysis\n",
        "df1=data[(data['user_purchase_count']>250)]\n",
        "df1=df1[(df1['product_ordered_count']>=250)]\n",
        "#df1=df1[df1['reordered']==1]\n",
        "df1=df1[['user_id','product_name','reordered']]\n",
        "df1=df1.set_index('user_id')\n",
        "#df1['tri']=df1.groupby(['user_id','product_name'])['product_name'].transform('count')\n",
        "product_based=pd.pivot_table(df1,columns='user_id',index='product_name',values='reordered',aggfunc='mean')\n",
        "product_based=product_based.fillna(0)\n",
        "user_based=pd.pivot_table(df1,index='user_id',columns='product_name',values='reordered',aggfunc='mean')\n",
        "user_based=user_based.fillna(0)\n",
        "#del(data)\n",
        "del(df1)"
      ],
      "metadata": {
        "id": "O7DNmPZDPKsh"
      },
      "execution_count": 6,
      "outputs": []
    },
    {
      "cell_type": "code",
      "source": [
        "#finding cosin similarity\n",
        "product_similarity_score=cosine_similarity(product_based)         #Compare each product with other product and find similar product\n",
        "product_similarity_score.shape\n",
        "user_similarity_score=cosine_similarity(user_based)         #Compare each user with other users and find similar users\n",
        "user_similarity_score.shape"
      ],
      "metadata": {
        "colab": {
          "base_uri": "https://localhost:8080/"
        },
        "id": "VzKYciPOPKp2",
        "outputId": "7c825556-572a-42d5-ab3a-38200d086fe5"
      },
      "execution_count": 7,
      "outputs": [
        {
          "output_type": "execute_result",
          "data": {
            "text/plain": [
              "(36576, 36576)"
            ]
          },
          "metadata": {},
          "execution_count": 7
        }
      ]
    },
    {
      "cell_type": "code",
      "source": [
        "#Defining a function which would take a product name and returns suggesion based on the product\n",
        "def product_recommender(product_name):\n",
        "  index=np.where(product_based.index==product_name)[0][0]\n",
        "  similar_items=sorted(list(enumerate(product_similarity_score[index])),key=lambda x:x[1],reverse=True)[1:6]\n",
        "  name=[]\n",
        "  for i in similar_items:\n",
        "    name.append(product_based.index[i[0]])\n",
        "  return name"
      ],
      "metadata": {
        "id": "b3_I2qM7PKm9"
      },
      "execution_count": 8,
      "outputs": []
    },
    {
      "cell_type": "code",
      "source": [
        "product_recommender('0% Fat Free Organic Milk')"
      ],
      "metadata": {
        "colab": {
          "base_uri": "https://localhost:8080/"
        },
        "id": "9zCxBGy2VW4u",
        "outputId": "ff36de30-9710-4bfd-e38a-8e40bc64a452"
      },
      "execution_count": 13,
      "outputs": [
        {
          "output_type": "execute_result",
          "data": {
            "text/plain": [
              "['Vitamin D Organic Whole Milk',\n",
              " 'Organic Skim Milk',\n",
              " 'Organic 1% Milk',\n",
              " 'Original Sparkling Seltzer Water Cans',\n",
              " '2% Reduced Fat Organic Milk']"
            ]
          },
          "metadata": {},
          "execution_count": 13
        }
      ]
    },
    {
      "cell_type": "code",
      "source": [
        "#takes user id and returns most frequently purchased products\n",
        "def users_top_purchase(similar_user1,user_name):\n",
        "  result=(pd.merge((data[data['user_id']==similar_user1]),(data[data['user_id']==user_name]),how='outer')).sort_values('product_ordered_count',ascending=False)[['product_name','product_ordered_count']]\n",
        "  result.drop_duplicates(inplace=True)\n",
        "  return result['product_name'].head(10)\n",
        "\n",
        "#Defining a function which would take a user name and returns similar users\n",
        "def user_recommender(user_name):\n",
        "  index=np.where(user_based.index==user_name)[0][0]\n",
        "  similar_items=sorted(list(enumerate(user_similarity_score[index])),key=lambda x:x[1],reverse=True)[1:6]\n",
        "  name=[]\n",
        "  for i in similar_items:\n",
        "    name.append(user_based.index[i[0]])\n",
        "  return users_top_purchase(name[0],user_name)"
      ],
      "metadata": {
        "id": "3D8AVcToPKkM"
      },
      "execution_count": 111,
      "outputs": []
    },
    {
      "cell_type": "code",
      "source": [
        "user_recommender(206154)"
      ],
      "metadata": {
        "colab": {
          "base_uri": "https://localhost:8080/"
        },
        "id": "4unQOf9ZXg2t",
        "outputId": "cd5c430e-c317-438d-8a23-261bd07527f5"
      },
      "execution_count": 121,
      "outputs": [
        {
          "output_type": "execute_result",
          "data": {
            "text/plain": [
              "441                                  Banana\n",
              "150                  Bag of Organic Bananas\n",
              "182                    Organic Strawberries\n",
              "203                    Organic Baby Spinach\n",
              "465                    Organic Hass Avocado\n",
              "192                     Organic Raspberries\n",
              "191                           Organic Lemon\n",
              "318              Sparkling Water Grapefruit\n",
              "181    Organic Large Extra Fancy Fuji Apple\n",
              "238                       Organic Red Onion\n",
              "Name: product_name, dtype: object"
            ]
          },
          "metadata": {},
          "execution_count": 121
        }
      ]
    },
    {
      "cell_type": "code",
      "source": [
        "user_recommender(71)"
      ],
      "metadata": {
        "colab": {
          "base_uri": "https://localhost:8080/"
        },
        "id": "wxDOoAlzb7iK",
        "outputId": "3c683da0-1241-4487-beb8-cf65403c1049"
      },
      "execution_count": 48,
      "outputs": [
        {
          "output_type": "execute_result",
          "data": {
            "text/plain": [
              "266                     Banana\n",
              "253     Bag of Organic Bananas\n",
              "286       Organic Strawberries\n",
              "343       Organic Baby Spinach\n",
              "981       Organic Hass Avocado\n",
              "288                Large Lemon\n",
              "287                      Limes\n",
              "71          Organic Whole Milk\n",
              "506             Organic Garlic\n",
              "1013          Organic Zucchini\n",
              "Name: product_name, dtype: object"
            ]
          },
          "metadata": {},
          "execution_count": 48
        }
      ]
    },
    {
      "cell_type": "code",
      "source": [
        "user_recommender(17)"
      ],
      "metadata": {
        "colab": {
          "base_uri": "https://localhost:8080/"
        },
        "id": "Y1MEloGCdCfj",
        "outputId": "e3494b50-a302-4771-a7ac-24219a62b268"
      },
      "execution_count": 49,
      "outputs": [
        {
          "output_type": "execute_result",
          "data": {
            "text/plain": [
              "655                                   Strawberries\n",
              "184                            Organic Raspberries\n",
              "754                         100% Whole Wheat Bread\n",
              "661                                    Raspberries\n",
              "660                            Granny Smith Apples\n",
              "130    Organic Large Brown Grade AA Cage Free Eggs\n",
              "229                             Honey Nut Cheerios\n",
              "104                            Reduced Fat 2% Milk\n",
              "23                                    Orange Juice\n",
              "668                           Strawberry Preserves\n",
              "Name: product_name, dtype: object"
            ]
          },
          "metadata": {},
          "execution_count": 49
        }
      ]
    },
    {
      "cell_type": "markdown",
      "source": [
        "**Collaborative filtering Using Near Neighbours**"
      ],
      "metadata": {
        "id": "1sQ8E4-vdZyP"
      }
    },
    {
      "cell_type": "code",
      "source": [
        "#Product based\n",
        "table_sparse1=csr_matrix(product_based)  #To consider only value and to avoid 0 to reduce computation time\n",
        "#Building the model\n",
        "model=NearestNeighbors(algorithm='brute')\n",
        "model.fit(table_sparse1)\n",
        "#Input \n",
        "def nn_recommend_product(product_name):\n",
        "  id=np.where(product_based.index==product_name)[0][0]\n",
        "  distance,suggestion=model.kneighbors(product_based.iloc[id,:].values.reshape(1,-1),n_neighbors=5)\n",
        "  name=[]\n",
        "  for i in range(len(suggestion)):\n",
        "    name.extend(product_based.index[suggestion[i]])\n",
        "    return name"
      ],
      "metadata": {
        "id": "K853q8u5deha"
      },
      "execution_count": 50,
      "outputs": []
    },
    {
      "cell_type": "code",
      "source": [
        "nn_recommend_product('0% Fat Blueberry Greek Yogurt')"
      ],
      "metadata": {
        "colab": {
          "base_uri": "https://localhost:8080/"
        },
        "id": "oUpogj01diIo",
        "outputId": "3de64eb9-7332-4d59-e501-209e04bc4d03"
      },
      "execution_count": 51,
      "outputs": [
        {
          "output_type": "execute_result",
          "data": {
            "text/plain": [
              "['0% Fat Blueberry Greek Yogurt',\n",
              " 'Bamboo Skewers',\n",
              " 'Organic Whole Bean Coffee',\n",
              " 'Omeprazole Acid Reducer Tablets',\n",
              " 'Ground Mustard']"
            ]
          },
          "metadata": {},
          "execution_count": 51
        }
      ]
    },
    {
      "cell_type": "code",
      "source": [
        "#user based\n",
        "table_sparse2=csr_matrix(user_based)  #To consider only value and to avoid 0 to reduce computation time\n",
        "#Building the model\n",
        "model=NearestNeighbors(algorithm='brute')\n",
        "model.fit(table_sparse2)\n",
        "#Input \n",
        "def nn_recommend_user(user_name):\n",
        "  id=np.where(user_based.index==user_name)[0][0]\n",
        "  distance,suggestion=model.kneighbors(user_based.iloc[id,:].values.reshape(1,-1),n_neighbors=5)\n",
        "  name=[]\n",
        "  for i in range(len(suggestion)):\n",
        "    name.extend(user_based.index[suggestion[i]])\n",
        "    return users_top_purchase(name[0],user_name)"
      ],
      "metadata": {
        "id": "GHaoC7O5dn4A"
      },
      "execution_count": 56,
      "outputs": []
    },
    {
      "cell_type": "code",
      "source": [
        "nn_recommend_user(17)"
      ],
      "metadata": {
        "colab": {
          "base_uri": "https://localhost:8080/"
        },
        "id": "1r6jIN6xdwD9",
        "outputId": "6c63ffb4-55a9-4d17-9a08-f3d5c05b81a6"
      },
      "execution_count": 57,
      "outputs": [
        {
          "output_type": "execute_result",
          "data": {
            "text/plain": [
              "129                   Strawberries\n",
              "236         100% Whole Wheat Bread\n",
              "143                    Raspberries\n",
              "139            Granny Smith Apples\n",
              "149           Strawberry Preserves\n",
              "9                             Cola\n",
              "179    Smoked Turkey Breast Slices\n",
              "159         Squeeze Tomato Ketchup\n",
              "296                     Chardonnay\n",
              "265                          Vodka\n",
              "Name: product_name, dtype: object"
            ]
          },
          "metadata": {},
          "execution_count": 57
        }
      ]
    },
    {
      "cell_type": "markdown",
      "source": [
        "**Popularity Based Model**"
      ],
      "metadata": {
        "id": "De6dlBzgeUuU"
      }
    },
    {
      "cell_type": "code",
      "source": [
        "#Recommends top 10 popular products\n",
        "data['Product_reorder_count']=data.groupby('product_name')['reordered'].transform('sum')\n",
        "data['reorder_ratio']=(data['Product_reorder_count']/(len(data['reordered']==1)))\n",
        "popular_products=data[['product_id','product_name','product_ordered_count','Product_reorder_count','reorder_ratio','department']]\n",
        "popular_products=popular_products.drop_duplicates().reset_index(drop=bool)\n",
        "popular_products['weight']=popular_products['product_ordered_count']*popular_products['reorder_ratio']\n",
        "top_10_popular=popular_products.sort_values('weight',ascending=False)['product_name'].head(10).values\n",
        "top_10_popular"
      ],
      "metadata": {
        "colab": {
          "base_uri": "https://localhost:8080/"
        },
        "id": "jhtD2HC7eXIz",
        "outputId": "8febf5d0-8f4e-4c46-c70b-890956fe8915"
      },
      "execution_count": 61,
      "outputs": [
        {
          "output_type": "execute_result",
          "data": {
            "text/plain": [
              "array(['Banana', 'Bag of Organic Bananas', 'Organic Strawberries',\n",
              "       'Organic Baby Spinach', 'Organic Hass Avocado', 'Organic Avocado',\n",
              "       'Large Lemon', 'Organic Whole Milk', 'Organic Raspberries',\n",
              "       'Strawberries'], dtype=object)"
            ]
          },
          "metadata": {},
          "execution_count": 61
        }
      ]
    },
    {
      "cell_type": "markdown",
      "source": [
        "**Model Based Methods**"
      ],
      "metadata": {
        "id": "hpgAntC-PLFt"
      }
    },
    {
      "cell_type": "code",
      "execution_count": 62,
      "metadata": {
        "colab": {
          "base_uri": "https://localhost:8080/"
        },
        "id": "1GW0CIyxwLtE",
        "outputId": "cd9d8d88-7b1f-4177-a296-d8a9fc125087"
      },
      "outputs": [
        {
          "output_type": "stream",
          "name": "stdout",
          "text": [
            "Looking in indexes: https://pypi.org/simple, https://us-python.pkg.dev/colab-wheels/public/simple/\n",
            "Collecting surprise\n",
            "  Downloading surprise-0.1-py2.py3-none-any.whl (1.8 kB)\n",
            "Collecting scikit-surprise (from surprise)\n",
            "  Downloading scikit-surprise-1.1.3.tar.gz (771 kB)\n",
            "\u001b[2K     \u001b[90m━━━━━━━━━━━━━━━━━━━━━━━━━━━━━━━━━━━━━━\u001b[0m \u001b[32m772.0/772.0 kB\u001b[0m \u001b[31m41.9 MB/s\u001b[0m eta \u001b[36m0:00:00\u001b[0m\n",
            "\u001b[?25h  Preparing metadata (setup.py) ... \u001b[?25l\u001b[?25hdone\n",
            "Requirement already satisfied: joblib>=1.0.0 in /usr/local/lib/python3.10/dist-packages (from scikit-surprise->surprise) (1.2.0)\n",
            "Requirement already satisfied: numpy>=1.17.3 in /usr/local/lib/python3.10/dist-packages (from scikit-surprise->surprise) (1.22.4)\n",
            "Requirement already satisfied: scipy>=1.3.2 in /usr/local/lib/python3.10/dist-packages (from scikit-surprise->surprise) (1.10.1)\n",
            "Building wheels for collected packages: scikit-surprise\n",
            "  Building wheel for scikit-surprise (setup.py) ... \u001b[?25l\u001b[?25hdone\n",
            "  Created wheel for scikit-surprise: filename=scikit_surprise-1.1.3-cp310-cp310-linux_x86_64.whl size=3095473 sha256=3e6c57b5ad5b2626e159999b57871fe9e128402b334ff801f41ecaf2963ddd99\n",
            "  Stored in directory: /root/.cache/pip/wheels/a5/ca/a8/4e28def53797fdc4363ca4af740db15a9c2f1595ebc51fb445\n",
            "Successfully built scikit-surprise\n",
            "Installing collected packages: scikit-surprise, surprise\n",
            "Successfully installed scikit-surprise-1.1.3 surprise-0.1\n"
          ]
        }
      ],
      "source": [
        "!pip install surprise"
      ]
    },
    {
      "cell_type": "code",
      "execution_count": 68,
      "metadata": {
        "id": "4q5VIy06vDuv"
      },
      "outputs": [],
      "source": [
        "import surprise\n",
        "from sklearn.preprocessing import MinMaxScaler "
      ]
    },
    {
      "cell_type": "code",
      "execution_count": 64,
      "metadata": {
        "id": "zdDRttxu0NDv"
      },
      "outputs": [],
      "source": [
        "df1=data[['product_name','user_id','reordered']]"
      ]
    },
    {
      "cell_type": "code",
      "execution_count": 67,
      "metadata": {
        "colab": {
          "base_uri": "https://localhost:8080/"
        },
        "id": "M30pizQ90cOC",
        "outputId": "9b29e715-0aaa-44fd-f3fa-135a2f5a48b5"
      },
      "outputs": [
        {
          "output_type": "stream",
          "name": "stderr",
          "text": [
            "<ipython-input-67-4f816218e90c>:1: SettingWithCopyWarning: \n",
            "A value is trying to be set on a copy of a slice from a DataFrame.\n",
            "Try using .loc[row_indexer,col_indexer] = value instead\n",
            "\n",
            "See the caveats in the documentation: https://pandas.pydata.org/pandas-docs/stable/user_guide/indexing.html#returning-a-view-versus-a-copy\n",
            "  df1['product_ordered_per_user']=df1.groupby(['user_id'])['product_name'].transform('count')\n",
            "<ipython-input-67-4f816218e90c>:2: SettingWithCopyWarning: \n",
            "A value is trying to be set on a copy of a slice from a DataFrame.\n",
            "Try using .loc[row_indexer,col_indexer] = value instead\n",
            "\n",
            "See the caveats in the documentation: https://pandas.pydata.org/pandas-docs/stable/user_guide/indexing.html#returning-a-view-versus-a-copy\n",
            "  df1['product_per_user']=df1.groupby(['user_id','product_name'])['product_name'].transform('count')\n",
            "<ipython-input-67-4f816218e90c>:3: SettingWithCopyWarning: \n",
            "A value is trying to be set on a copy of a slice from a DataFrame.\n",
            "Try using .loc[row_indexer,col_indexer] = value instead\n",
            "\n",
            "See the caveats in the documentation: https://pandas.pydata.org/pandas-docs/stable/user_guide/indexing.html#returning-a-view-versus-a-copy\n",
            "  df1['product_ratio']=df1['product_per_user']/df1['product_ordered_per_user']\n"
          ]
        }
      ],
      "source": [
        "df1['product_ordered_per_user']=df1.groupby(['user_id'])['product_name'].transform('count')\n",
        "df1['product_per_user']=df1.groupby(['user_id','product_name'])['product_name'].transform('count')\n",
        "df1['product_ratio']=df1['product_per_user']/df1['product_ordered_per_user']"
      ]
    },
    {
      "cell_type": "code",
      "execution_count": 69,
      "metadata": {
        "colab": {
          "base_uri": "https://localhost:8080/"
        },
        "id": "G30N5Wmq8iOL",
        "outputId": "3caaca34-4fab-4858-d314-7cece8e3092b"
      },
      "outputs": [
        {
          "output_type": "stream",
          "name": "stderr",
          "text": [
            "<ipython-input-69-c22d7ad938af>:2: SettingWithCopyWarning: \n",
            "A value is trying to be set on a copy of a slice from a DataFrame.\n",
            "Try using .loc[row_indexer,col_indexer] = value instead\n",
            "\n",
            "See the caveats in the documentation: https://pandas.pydata.org/pandas-docs/stable/user_guide/indexing.html#returning-a-view-versus-a-copy\n",
            "  df1['scaled']=scaler.fit_transform(df1['product_ratio'].values.reshape(-1,1))\n"
          ]
        }
      ],
      "source": [
        "scaler=MinMaxScaler(feature_range=(0,5))\n",
        "df1['scaled']=scaler.fit_transform(df1['product_ratio'].values.reshape(-1,1))"
      ]
    },
    {
      "cell_type": "code",
      "execution_count": 70,
      "metadata": {
        "colab": {
          "base_uri": "https://localhost:8080/"
        },
        "id": "J8fLRauM9BOk",
        "outputId": "15a7a0f9-449c-460f-f845-ceb30778152c"
      },
      "outputs": [
        {
          "output_type": "stream",
          "name": "stderr",
          "text": [
            "<ipython-input-70-e9bad96f83eb>:1: SettingWithCopyWarning: \n",
            "A value is trying to be set on a copy of a slice from a DataFrame.\n",
            "Try using .loc[row_indexer,col_indexer] = value instead\n",
            "\n",
            "See the caveats in the documentation: https://pandas.pydata.org/pandas-docs/stable/user_guide/indexing.html#returning-a-view-versus-a-copy\n",
            "  df1['rating']=np.round(df1['scaled'])\n"
          ]
        }
      ],
      "source": [
        "df1['rating']=np.round(df1['scaled'])"
      ]
    },
    {
      "cell_type": "code",
      "execution_count": 71,
      "metadata": {
        "colab": {
          "base_uri": "https://localhost:8080/"
        },
        "id": "PWHv4cbUSf-B",
        "outputId": "21b4acb7-475a-4f2a-a72c-2b639472df9c"
      },
      "outputs": [
        {
          "output_type": "stream",
          "name": "stderr",
          "text": [
            "<ipython-input-71-32c3091bbe53>:1: SettingWithCopyWarning: \n",
            "A value is trying to be set on a copy of a slice from a DataFrame.\n",
            "Try using .loc[row_indexer,col_indexer] = value instead\n",
            "\n",
            "See the caveats in the documentation: https://pandas.pydata.org/pandas-docs/stable/user_guide/indexing.html#returning-a-view-versus-a-copy\n",
            "  df1['rating']=df1['rating'].astype('int')\n"
          ]
        }
      ],
      "source": [
        "df1['rating']=df1['rating'].astype('int')"
      ]
    },
    {
      "cell_type": "code",
      "execution_count": 73,
      "metadata": {
        "id": "nQ5KDmhy0KOE"
      },
      "outputs": [],
      "source": [
        "from surprise import Dataset\n",
        "from surprise import Reader\n",
        "reader = Reader(rating_scale=(0, 5))\n",
        "data_set= Dataset.load_from_df(df1[['user_id', 'product_name', 'rating']], reader)"
      ]
    },
    {
      "cell_type": "code",
      "execution_count": 74,
      "metadata": {
        "id": "jw-usN3SFz-J",
        "colab": {
          "base_uri": "https://localhost:8080/"
        },
        "outputId": "c01d6315-e5ef-4c8a-990f-b1a1d5ce81ae"
      },
      "outputs": [
        {
          "output_type": "stream",
          "name": "stdout",
          "text": [
            "Processing epoch 0\n",
            "Processing epoch 1\n",
            "Processing epoch 2\n",
            "Processing epoch 3\n",
            "Processing epoch 4\n",
            "Processing epoch 5\n",
            "Processing epoch 6\n",
            "Processing epoch 7\n",
            "Processing epoch 8\n",
            "Processing epoch 9\n",
            "Processing epoch 0\n",
            "Processing epoch 1\n",
            "Processing epoch 2\n",
            "Processing epoch 3\n",
            "Processing epoch 4\n",
            "Processing epoch 5\n",
            "Processing epoch 6\n",
            "Processing epoch 7\n",
            "Processing epoch 8\n",
            "Processing epoch 9\n",
            "Processing epoch 0\n",
            "Processing epoch 1\n",
            "Processing epoch 2\n",
            "Processing epoch 3\n",
            "Processing epoch 4\n",
            "Processing epoch 5\n",
            "Processing epoch 6\n",
            "Processing epoch 7\n",
            "Processing epoch 8\n",
            "Processing epoch 9\n",
            "Evaluating RMSE, MAE of algorithm SVD on 3 split(s).\n",
            "\n",
            "                  Fold 1  Fold 2  Fold 3  Mean    Std     \n",
            "RMSE (testset)    0.2463  0.2450  0.2498  0.2471  0.0020  \n",
            "MAE (testset)     0.1329  0.1303  0.1329  0.1320  0.0012  \n",
            "Fit time          194.89  214.32  214.18  207.80  9.13    \n",
            "Test time         186.10  157.26  159.20  167.52  13.16   \n"
          ]
        },
        {
          "output_type": "execute_result",
          "data": {
            "text/plain": [
              "{'test_rmse': array([0.24630081, 0.24504905, 0.24981076]),\n",
              " 'test_mae': array([0.13287172, 0.1303328 , 0.13289897]),\n",
              " 'fit_time': (194.88934683799744, 214.32352662086487, 214.17640376091003),\n",
              " 'test_time': (186.10062384605408, 157.25913381576538, 159.20393824577332)}"
            ]
          },
          "metadata": {},
          "execution_count": 74
        }
      ],
      "source": [
        "from surprise import SVD\n",
        "from surprise.model_selection import cross_validate\n",
        "\n",
        "svd = SVD(verbose=True, n_epochs=10)\n",
        "cross_validate(svd, data_set, measures=['RMSE', 'MAE'], cv=3, verbose=True)"
      ]
    },
    {
      "cell_type": "code",
      "source": [
        "import string # special operations on strings\n",
        "import spacy # language models"
      ],
      "metadata": {
        "id": "nJdODtChhXQE"
      },
      "execution_count": 75,
      "outputs": []
    },
    {
      "cell_type": "code",
      "source": [
        "#Sentiment analysis\n",
        "afinn = pd.read_csv('/content/drive/MyDrive/Tittu_data/Afinn.csv', sep=',', encoding='latin-1')\n",
        "afinn.shape\n",
        "affinity_scores = afinn.set_index('word')['value'].to_dict()"
      ],
      "metadata": {
        "id": "aDyH4egBhhKT"
      },
      "execution_count": 77,
      "outputs": []
    },
    {
      "cell_type": "code",
      "source": [
        "nlp = spacy.load('en_core_web_sm')\n",
        "sentiment_lexicon = affinity_scores\n",
        "\n",
        "def calculate_sentiment(text: str = None):\n",
        "    sent_score = 0\n",
        "    if text:\n",
        "        sentence = nlp(text)\n",
        "        for word in sentence:\n",
        "            sent_score += sentiment_lexicon.get(word.lemma_, 0)\n",
        "    return sent_score"
      ],
      "metadata": {
        "id": "0LDosCmqhivT"
      },
      "execution_count": 78,
      "outputs": []
    },
    {
      "cell_type": "code",
      "source": [
        "def update_recommendation():\n",
        "  print('\\n')\n",
        "  feed_score=calculate_sentiment(str(input('Please Enter Feedback of the recommendations: ')))\n",
        "  while(feed_score<0):\n",
        "    print(top_10_popular)\n",
        "    print('\\n')\n",
        "    feed_score=calculate_sentiment(str(input('Please Enter Feedback of the recommendations: ')))\n",
        "    print('\\n')\n",
        "  print('Thank you for Your feed back')"
      ],
      "metadata": {
        "id": "QzUElIqQofp2"
      },
      "execution_count": 129,
      "outputs": []
    },
    {
      "cell_type": "code",
      "source": [
        "#Final Recommendation System\n",
        "def recommendation_system():\n",
        "  print('Select Type of recommendation')\n",
        "  print('Select 1 for product based,2 for user based,3 for popularity based recommendation system \\n')\n",
        "  user_selection=int(input('Enter Selection here: '))\n",
        "  if user_selection==1:\n",
        "    product_name=str(input('Please Enter the Product Name: '))\n",
        "    try:\n",
        "      output=product_recommender(product_name)\n",
        "    except:\n",
        "      output=top_10_popular\n",
        "    print(output)\n",
        "    update_recommendation()\n",
        "  elif user_selection==2:\n",
        "    user_id=int(input('Please Enter the User Id: '))\n",
        "    print('\\n')\n",
        "    try:\n",
        "      output=nn_recommend_user(user_id)\n",
        "    except:\n",
        "      output=top_10_popular\n",
        "    print('\\n')\n",
        "    print(output)\n",
        "    update_recommendation()\n",
        "  elif user_selection==3:\n",
        "    print(top_10_popular)\n",
        "\n",
        "  else:\n",
        "    print('Wrong Selections')"
      ],
      "metadata": {
        "id": "wWIPXS3chk1O"
      },
      "execution_count": 140,
      "outputs": []
    },
    {
      "cell_type": "code",
      "source": [
        "recommendation_system()"
      ],
      "metadata": {
        "colab": {
          "base_uri": "https://localhost:8080/"
        },
        "id": "-EXpoAJqmKFD",
        "outputId": "c8d40974-9a0a-4c8f-ff4e-67835d80b526"
      },
      "execution_count": 142,
      "outputs": [
        {
          "output_type": "stream",
          "name": "stdout",
          "text": [
            "Select Type of recommendation\n",
            "Select 1 for product based,2 for user based,3 for popularity based recommendation system \n",
            "\n",
            "Enter Selection here: 3\n",
            "['Banana' 'Bag of Organic Bananas' 'Organic Strawberries'\n",
            " 'Organic Baby Spinach' 'Organic Hass Avocado' 'Organic Avocado'\n",
            " 'Large Lemon' 'Organic Whole Milk' 'Organic Raspberries' 'Strawberries']\n"
          ]
        }
      ]
    },
    {
      "cell_type": "code",
      "source": [
        "user_based.index"
      ],
      "metadata": {
        "colab": {
          "base_uri": "https://localhost:8080/"
        },
        "id": "6Y5kG2ehqoLD",
        "outputId": "78a6760f-7b82-47c1-d394-4acc1e5548fe"
      },
      "execution_count": 104,
      "outputs": [
        {
          "output_type": "execute_result",
          "data": {
            "text/plain": [
              "Int64Index([    17,     27,     31,     50,     54,     63,     71,     75,\n",
              "                86,     90,\n",
              "            ...\n",
              "            206154, 206165, 206174, 206187, 206193, 206199, 206200, 206201,\n",
              "            206206, 206208],\n",
              "           dtype='int64', name='user_id', length=36576)"
            ]
          },
          "metadata": {},
          "execution_count": 104
        }
      ]
    },
    {
      "cell_type": "code",
      "source": [
        "product_based.index"
      ],
      "metadata": {
        "colab": {
          "base_uri": "https://localhost:8080/"
        },
        "id": "GwLllGyoVZQH",
        "outputId": "df326c14-73da-403d-ab48-67cf8eb4784f"
      },
      "execution_count": 9,
      "outputs": [
        {
          "output_type": "execute_result",
          "data": {
            "text/plain": [
              "Index(['#2 Coffee Filters', '0% Fat Blueberry Greek Yogurt',\n",
              "       '0% Fat Free Organic Milk', '0% Fat Organic Greek Vanilla Yogurt',\n",
              "       '0% Fat Strawberry Greek Yogurt', '0% Fat Superfruits Greek Yogurt',\n",
              "       '0% Greek Strained Yogurt',\n",
              "       '0% Greek Yogurt Black Cherry on the Bottom',\n",
              "       '0% Greek, Blueberry on the Bottom Yogurt', '1 % Lowfat Milk',\n",
              "       ...\n",
              "       'Zucchini Squash', '\\\"Mokaccino\\\" Milk + Blue Bottle Coffee Chocolate',\n",
              "       'for Tots Apple Juice', 'gel hand wash sea minerals',\n",
              "       'of Hanover 100 Calorie Pretzels Mini',\n",
              "       'smartwater® Electrolyte Enhanced Water',\n",
              "       'vitaminwater® XXX Acai Blueberry Pomegranate',\n",
              "       'with Crispy Almonds Cereal', 'with Olive Oil Mayonnaise',\n",
              "       'with Olive Oil Mayonnaise Dressing'],\n",
              "      dtype='object', name='product_name', length=12522)"
            ]
          },
          "metadata": {},
          "execution_count": 9
        }
      ]
    }
  ],
  "metadata": {
    "colab": {
      "machine_shape": "hm",
      "provenance": [],
      "gpuType": "A100"
    },
    "gpuClass": "standard",
    "kernelspec": {
      "display_name": "Python 3",
      "name": "python3"
    },
    "language_info": {
      "name": "python"
    },
    "accelerator": "GPU"
  },
  "nbformat": 4,
  "nbformat_minor": 0
}